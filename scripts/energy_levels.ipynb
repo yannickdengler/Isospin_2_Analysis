{
 "cells": [
  {
   "cell_type": "markdown",
   "metadata": {},
   "source": [
    "# Create energy levels from HDF_logfiles"
   ]
  },
  {
   "cell_type": "code",
   "execution_count": null,
   "metadata": {},
   "outputs": [],
   "source": [
    "import src_py.error_classes as err\n",
    "import src_py.corrfitter as cf\n",
    "import src_py.read_HDF5_logfile as HDF_log \n",
    "import numpy as np\n",
    "import matplotlib\n",
    "import os\n",
    "# matplotlib.use(\"MacOSX\")\n",
    "matplotlib.use(\"GTK4Agg\")\n",
    "%load_ext autoreload"
   ]
  },
  {
   "cell_type": "code",
   "execution_count": null,
   "metadata": {},
   "outputs": [],
   "source": [
    "%autoreload now\n",
    "%autoreload 2"
   ]
  },
  {
   "cell_type": "markdown",
   "metadata": {},
   "source": [
    "# actually energy levels\n"
   ]
  },
  {
   "cell_type": "code",
   "execution_count": null,
   "metadata": {},
   "outputs": [],
   "source": [
    "filename = \"../output/HDF5_logfiles/Scattering_I2_SP(4)_beta6.900_m1-0.900_m2-0.900_T24_L12_logfile.hdf5\"\n",
    "Op_ind = 0\n",
    "\n",
    "(corr, ops, info) = HDF_log.get_corr_ops_info_from_HDF5_logfile(filename)\n",
    "test = err.measurement(\"corr\", measure_func=cf.fit_corr, sampling_args = (\"JK_SAMEDIM\", 0, 0))\n",
    "test.measure(orig_sample=np.swapaxes(np.mean(corr[Op_ind], axis=0),0,1), args=[filename, 0])\n",
    "test.print_to_HDF()\n",
    "test.print_everything()"
   ]
  },
  {
   "cell_type": "code",
   "execution_count": null,
   "metadata": {},
   "outputs": [],
   "source": []
  }
 ],
 "metadata": {
  "kernelspec": {
   "display_name": "Python 3",
   "language": "python",
   "name": "python3"
  },
  "language_info": {
   "codemirror_mode": {
    "name": "ipython",
    "version": 3
   },
   "file_extension": ".py",
   "mimetype": "text/x-python",
   "name": "python",
   "nbconvert_exporter": "python",
   "pygments_lexer": "ipython3",
   "version": "3.10.12"
  },
  "orig_nbformat": 4
 },
 "nbformat": 4,
 "nbformat_minor": 2
}
